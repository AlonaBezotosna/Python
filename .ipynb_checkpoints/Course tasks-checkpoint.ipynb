{
 "cells": [
  {
   "cell_type": "markdown",
   "id": "baa029cc",
   "metadata": {},
   "source": [
    "Write function **update_dictionary(d, key, value)**, which get parameters -  dictionary **d** and 2 numbers: **key** and **value**\n",
    "<br>Function have to do:\n",
    "<br> - if **key** already in dictionary **d** then add **value** to list with this key\n",
    "<br> - if there is no **key** in dictionary **d** then add  **value** to list with key 2***key**   <br> - if there is no 2***key** in dictionary **d** then add key 2***key** to dictionary and **value**\n"
   ]
  },
  {
   "cell_type": "code",
   "execution_count": 1,
   "id": "d262199a",
   "metadata": {},
   "outputs": [],
   "source": [
    "def update_dictionary(d, key, value):\n",
    "    if key in d:\n",
    "        d[key]+=[value]\n",
    "    elif 2*key in d:\n",
    "        d[2*key]+=[value]\n",
    "    else:\n",
    "         d[2*key]=[value]"
   ]
  },
  {
   "cell_type": "code",
   "execution_count": 2,
   "id": "2e61fc28",
   "metadata": {},
   "outputs": [
    {
     "name": "stdout",
     "output_type": "stream",
     "text": [
      "{2: [-1]}\n"
     ]
    }
   ],
   "source": [
    "d = {}\n",
    "update_dictionary(d, 1, -1) \n",
    "print(d) "
   ]
  },
  {
   "cell_type": "code",
   "execution_count": 3,
   "id": "2c4dc94d",
   "metadata": {},
   "outputs": [
    {
     "name": "stdout",
     "output_type": "stream",
     "text": [
      "{2: [-1, 10]}\n"
     ]
    }
   ],
   "source": [
    "update_dictionary(d, 2, 10) \n",
    "print(d) "
   ]
  }
 ],
 "metadata": {
  "kernelspec": {
   "display_name": "Python 3 (ipykernel)",
   "language": "python",
   "name": "python3"
  },
  "language_info": {
   "codemirror_mode": {
    "name": "ipython",
    "version": 3
   },
   "file_extension": ".py",
   "mimetype": "text/x-python",
   "name": "python",
   "nbconvert_exporter": "python",
   "pygments_lexer": "ipython3",
   "version": "3.10.5"
  }
 },
 "nbformat": 4,
 "nbformat_minor": 5
}
