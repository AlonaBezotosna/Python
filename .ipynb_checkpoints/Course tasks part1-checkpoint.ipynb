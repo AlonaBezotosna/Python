{
 "cells": [
  {
   "cell_type": "markdown",
   "id": "7f05b8ea",
   "metadata": {},
   "source": [
    " \n",
    "Write program which print what the year by it's number - leap-year or ordinary year.\n",
    "<br>Leap year - when it's number multiple 4 and not multiple 100  or  multiple 400.\n",
    "<br>Year bounderies 1900≤n≤3000"
   ]
  },
  {
   "cell_type": "code",
   "execution_count": 1,
   "id": "e62428f4",
   "metadata": {},
   "outputs": [
    {
     "name": "stdout",
     "output_type": "stream",
     "text": [
      "2000\n",
      "Leap year\n"
     ]
    }
   ],
   "source": [
    "Y = int(input())\n",
    "if Y%4 == 0 and Y%100 !=0:\n",
    "    print('Leap year')\n",
    "elif Y%400 == 0:\n",
    "     print('Leap year')\n",
    "else:\n",
    "    print('Ordinary')"
   ]
  },
  {
   "cell_type": "markdown",
   "id": "6416cd52",
   "metadata": {},
   "source": [
    "Calculate square of figure. \n",
    "<br> Figure may by one of 3 types - triangle, rectangle, circle"
   ]
  },
  {
   "cell_type": "code",
   "execution_count": 5,
   "id": "1336565a",
   "metadata": {},
   "outputs": [
    {
     "name": "stdout",
     "output_type": "stream",
     "text": [
      "triangle\n",
      "3\n",
      "4\n",
      "5\n",
      "6.0\n"
     ]
    }
   ],
   "source": [
    "figure = input()\n",
    "if figure == \"triangle\":\n",
    "    a = int(input())\n",
    "    b = int(input())\n",
    "    c = int(input())\n",
    "    p = (a+b+c)/2\n",
    "    print( (p*(p-a)*(p-b)*(p-c))**0.5 )\n",
    "elif rfigure == \"rectangle\":\n",
    "    a = int(input())\n",
    "    b = int(input())\n",
    "    print ( a*b)\n",
    "elif figure == \"circle\":\n",
    "    r = int(input())\n",
    "    print (3.14*r**2)"
   ]
  },
  {
   "cell_type": "markdown",
   "id": "deefa41d",
   "metadata": {},
   "source": [
    "Program gets 3 numbers.\n",
    "<br> Output at first position - maximum number, then - minimum number , then - remain number.\n",
    "<br> Input numbers can repeat"
   ]
  },
  {
   "cell_type": "code",
   "execution_count": 7,
   "id": "110d35cc",
   "metadata": {},
   "outputs": [
    {
     "name": "stdout",
     "output_type": "stream",
     "text": [
      "-8\n",
      "100\n",
      "5\n",
      "100\n",
      "-8\n",
      "5\n"
     ]
    }
   ],
   "source": [
    "a = int(input())\n",
    "b = int(input())\n",
    "c = int(input())\n",
    "\n",
    "#max\n",
    "if    a>=b and a>=c:\n",
    "    max = a\n",
    "elif b>=a and b>=c:\n",
    "    max = b\n",
    "else:\n",
    "    max = c\n",
    "\n",
    "\n",
    "#min\n",
    "if    a<=b and a<=c:\n",
    "    min = a\n",
    "elif b<=a and b<=c:\n",
    "    min = b\n",
    "else:\n",
    "    min = c\n",
    "\n",
    "#last\n",
    "if   ( (min < a < max)   or ( a==min and (a==b or a==c)) or ( a==max and (a==b or a==c)) ):\n",
    "    last = a\n",
    "\n",
    "elif   ( (min < b < max)   or ( b==min and (b==c or b==a)) or ( b==max and (b==c or b==a))  ):\n",
    "    last = b\n",
    "   \n",
    "elif   ( (min < c < max)   or ( c==min and (c==a or c==b))  or ( c==max and (c==a or c==b)) ):\n",
    "    last = c\n",
    "\n",
    "print (max)\n",
    "print (min)\n",
    "print (last) "
   ]
  },
  {
   "cell_type": "markdown",
   "id": "8c243220",
   "metadata": {},
   "source": [
    "Проиграмма получает на вход число программистов в комнате.\n",
    "Нужно вывести число программисток выбрав правильное окончание -  1 програмист,  2 програмиста,  10 програмистов и т.д."
   ]
  },
  {
   "cell_type": "code",
   "execution_count": 15,
   "id": "176a5ebc",
   "metadata": {},
   "outputs": [
    {
     "name": "stdout",
     "output_type": "stream",
     "text": [
      "12\n",
      "12 программистов\n"
     ]
    }
   ],
   "source": [
    "n = int(input()) \n",
    "if  (n ==0  or  (11<= n%100 <= 20) or  5<= n%10 <=9   or 5 <= n%100 <=9 ) :\n",
    "    last = \"стов\"\n",
    "    \n",
    "elif ( n%10 == 1 or n%100 == 1):\n",
    "    last =  \"ст\"\n",
    "    \n",
    "elif  ( 2<= n%10 <=4   or 2 <= n%100 <=4):  \n",
    "    last = \"ста\"\n",
    "    \n",
    "else:  \n",
    "    last = \"стов\"   \n",
    "print ( str(n) + \" программи\"+ last)     "
   ]
  },
  {
   "cell_type": "markdown",
   "id": "addb9335",
   "metadata": {},
   "source": [
    "Get ticket number with 6 figures\n",
    "<br> Define happy ticket ( when sum of first 3 figures = sum last 3 figures)"
   ]
  },
  {
   "cell_type": "code",
   "execution_count": 18,
   "id": "1cb206f0",
   "metadata": {},
   "outputs": [
    {
     "name": "stdout",
     "output_type": "stream",
     "text": [
      "841922\n",
      "Happy\n"
     ]
    }
   ],
   "source": [
    "n = int(input())\n",
    "n1 = n//100000 \n",
    "n2 = n//10000%10\n",
    "n3 = n//1000%100%10\n",
    "n4 = n//100%1000%100%10\n",
    "n5 = n//10%10000%1000%100%10\n",
    "n6 = n%100000%10000%1000%100%10\n",
    "\n",
    "print(\"Happy\" if n1 + n2+ n3 == n4 + n5+ n6 else \"Ordinary\" )    "
   ]
  },
  {
   "cell_type": "markdown",
   "id": "f46fb3e1",
   "metadata": {},
   "source": [
    "Get number from input - 1 number in each line. Stop when get first number = 0 and print sum of all numbers."
   ]
  },
  {
   "cell_type": "code",
   "execution_count": 19,
   "id": "885e032a",
   "metadata": {},
   "outputs": [
    {
     "name": "stdout",
     "output_type": "stream",
     "text": [
      "5\n",
      "6\n",
      "8\n",
      "0\n",
      "19\n"
     ]
    }
   ],
   "source": [
    "i = int(input())\n",
    "b = 0 \n",
    "while i!=0:\n",
    "    b+= i\n",
    "    i = int(input())\n",
    "print (b)   "
   ]
  },
  {
   "cell_type": "markdown",
   "id": "dcf02aa3",
   "metadata": {},
   "source": [
    "Программа должна считывать два положительных целых числа a и b ( каждое число вводится на отдельной строке)\n",
    "и выводить наименьшее число d, которое делится на оба этих числа без остатка."
   ]
  },
  {
   "cell_type": "code",
   "execution_count": 20,
   "id": "e86c8c43",
   "metadata": {},
   "outputs": [
    {
     "name": "stdout",
     "output_type": "stream",
     "text": [
      "5\n",
      "3\n",
      "15\n"
     ]
    }
   ],
   "source": [
    "a ,b = int( input()), int( input() )\n",
    "t0 = a*b\n",
    "t = t0\n",
    "while (t >= a and t>=b):\n",
    "    if t%a == 0 and t%b ==0:\n",
    "        t0 = t\n",
    "    t -=1\n",
    "print(t0)"
   ]
  },
  {
   "cell_type": "markdown",
   "id": "8b92b093",
   "metadata": {},
   "source": [
    "Read from console 3 pair of number and print multiplication of numbers for each pair"
   ]
  },
  {
   "cell_type": "code",
   "execution_count": 24,
   "id": "272e3438",
   "metadata": {},
   "outputs": [
    {
     "name": "stdout",
     "output_type": "stream",
     "text": [
      "1 3\n",
      "3\n",
      "3 9\n",
      "27\n",
      "3 9\n",
      "27\n"
     ]
    }
   ],
   "source": [
    "i = 0\n",
    "while i < 3:\n",
    "    a, b = input().split()\n",
    "    a = int(a)\n",
    "    b = int(b)\n",
    "    print(a * b)\n",
    "    i += 1"
   ]
  },
  {
   "cell_type": "markdown",
   "id": "f3b453e5",
   "metadata": {},
   "source": [
    "Write program which read integer numbers from console  - one number in each line.\n",
    "<br>For each input number check:\n",
    "<br>if number < 10 then skip this number\n",
    "<br>if number > 100 then stop reading numbers\n",
    "<br>in other cases output this number to console"
   ]
  },
  {
   "cell_type": "code",
   "execution_count": 25,
   "id": "1093469c",
   "metadata": {},
   "outputs": [
    {
     "name": "stdout",
     "output_type": "stream",
     "text": [
      "3\n",
      "4\n",
      "10\n",
      "10\n",
      "11\n",
      "11\n",
      "100\n",
      "100\n",
      "101\n"
     ]
    }
   ],
   "source": [
    "# <10 skip  >100 break\n",
    "i = 0\n",
    "while i <=100:\n",
    "    i = int(input())\n",
    "    \n",
    "    if i>100:\n",
    "        break\n",
    "        \n",
    "    if i<10:\n",
    "        continue\n",
    "        \n",
    "    print (i)"
   ]
  },
  {
   "cell_type": "markdown",
   "id": "7383af14",
   "metadata": {},
   "source": [
    "##### Get number n and print matrix n*n filled with *"
   ]
  },
  {
   "cell_type": "code",
   "execution_count": 26,
   "id": "c87f2595",
   "metadata": {},
   "outputs": [
    {
     "name": "stdout",
     "output_type": "stream",
     "text": [
      "7\n",
      "*******\n",
      "*******\n",
      "*******\n",
      "*******\n",
      "*******\n",
      "*******\n",
      "*******\n"
     ]
    }
   ],
   "source": [
    "n = int(input())\n",
    "for i in range(n):\n",
    "    for j in range(n):\n",
    "        print('*', end='')\n",
    "    print()   "
   ]
  },
  {
   "cell_type": "markdown",
   "id": "fad2f335",
   "metadata": {},
   "source": [
    "Print part of multiplication table where \n",
    "<br> rows - numbers from a to b  (get from console)\n",
    "<br> columns - numbers from c to d (get from console)"
   ]
  },
  {
   "cell_type": "code",
   "execution_count": 27,
   "id": "e56d6dd5",
   "metadata": {},
   "outputs": [
    {
     "name": "stdout",
     "output_type": "stream",
     "text": [
      "3\n",
      "6\n",
      "7\n",
      "9\n",
      "\t7\t8\t9\t\n",
      " 3\t21\t24\t27\t\n",
      " 4\t28\t32\t36\t\n",
      " 5\t35\t40\t45\t\n",
      " 6\t42\t48\t54\t"
     ]
    }
   ],
   "source": [
    "a,b,c,d = int(input()),int(input()),int(input()),int(input())\n",
    "\n",
    "print('', end = '\\t')  \n",
    "for j in range(c,d+1):\n",
    "    print(j, end = '\\t')\n",
    "\n",
    "for i in range(a,b+1):\n",
    "    print('\\n',i, end = '\\t')  \n",
    "    for j in range(c,d+1):\n",
    "        print(j*i, end = '\\t')"
   ]
  },
  {
   "cell_type": "markdown",
   "id": "90869ecb",
   "metadata": {},
   "source": [
    "Get numbers a, b from console.\n",
    "<br> Calculate average value for all numbers from a to b including that multiples of 3."
   ]
  },
  {
   "cell_type": "code",
   "execution_count": 31,
   "id": "ce213413",
   "metadata": {},
   "outputs": [
    {
     "name": "stdout",
     "output_type": "stream",
     "text": [
      "3\n",
      "10\n",
      "average 6.0\n"
     ]
    }
   ],
   "source": [
    "a,b = int(input()), int(input())\n",
    "s = 0\n",
    "n = 0\n",
    "if a%3==2:\n",
    "    a+=1\n",
    "elif a%3==1: \n",
    "    a+=2\n",
    "    \n",
    "for i in range(a,b+1,3):\n",
    "    s+=i\n",
    "    n+=1\n",
    "print('average',s/n)   "
   ]
  },
  {
   "cell_type": "markdown",
   "id": "9376df09",
   "metadata": {},
   "source": [
    "Get string from console\n",
    "<br> Make short version of string replacing repeating letters with letter and number (register is important)\n",
    "<br> Test on string with only 1 letter.\n",
    "<br> Example: 'aaaabbсaa'  have to be changed to 'a4b2с1a2'"
   ]
  },
  {
   "cell_type": "markdown",
   "id": "81728ba8",
   "metadata": {},
   "source": [
    "Solution 1"
   ]
  },
  {
   "cell_type": "code",
   "execution_count": 2,
   "id": "c60178df",
   "metadata": {},
   "outputs": [
    {
     "name": "stdout",
     "output_type": "stream",
     "text": [
      "aaabbbbn\n",
      "a3b4n1\n"
     ]
    }
   ],
   "source": [
    "s = input()\n",
    "fin =''\n",
    "t = s[0]\n",
    "k = 1\n",
    "if len(s) == 1:\n",
    "    fin += t + str(k)\n",
    "else:\n",
    "    for i in range(0, len(s)-1):\n",
    "        if s[i]!=s[i+1]:\n",
    "            fin += t+str(k)\n",
    "            t = s[i+1]\n",
    "            k = 1\n",
    "            if i == len(s)-2:\n",
    "                fin += t + str(k)\n",
    "        else:\n",
    "            k += 1\n",
    "            if i == len(s)-2:\n",
    "                fin += t + str(k)\n",
    "print(fin) "
   ]
  },
  {
   "cell_type": "markdown",
   "id": "a3608492",
   "metadata": {},
   "source": [
    "Solution 2"
   ]
  },
  {
   "cell_type": "code",
   "execution_count": 1,
   "id": "ca3df943",
   "metadata": {},
   "outputs": [
    {
     "name": "stdout",
     "output_type": "stream",
     "text": [
      "aaabbbbn\n",
      "a3b4n1\n"
     ]
    }
   ],
   "source": [
    "s = input()\n",
    "fin =''\n",
    "t = s[0]\n",
    "k = 1\n",
    "for i in range(0, len(s)-1):\n",
    "    if s[i]!=s[i+1]:\n",
    "        fin += t+str(k)\n",
    "        t = s[i+1]\n",
    "        k = 1\n",
    "    else:\n",
    "        k += 1\n",
    "fin += t + str(k)\n",
    "print(fin)"
   ]
  },
  {
   "cell_type": "markdown",
   "id": "a2be1542",
   "metadata": {},
   "source": [
    "Solution 3"
   ]
  },
  {
   "cell_type": "code",
   "execution_count": 3,
   "id": "b62a4471",
   "metadata": {},
   "outputs": [
    {
     "name": "stdout",
     "output_type": "stream",
     "text": [
      "aaabbbbn\n",
      "a3b4n1"
     ]
    }
   ],
   "source": [
    "genome = input()\n",
    "while genome:\n",
    "    print(genome[0], len(genome) - len(genome.lstrip(genome[0])), sep='', end='')\n",
    "    genome = genome.lstrip(genome[0])"
   ]
  },
  {
   "cell_type": "markdown",
   "id": "1611f006",
   "metadata": {},
   "source": [
    "### Lists"
   ]
  },
  {
   "cell_type": "markdown",
   "id": "3fbeaf82",
   "metadata": {},
   "source": [
    "Read numbers from console ( in one line devided by space) and calculate their sum"
   ]
  },
  {
   "cell_type": "code",
   "execution_count": 87,
   "id": "6ede4e9d",
   "metadata": {},
   "outputs": [
    {
     "name": "stdout",
     "output_type": "stream",
     "text": [
      "4 5 8 3\n",
      "20\n"
     ]
    }
   ],
   "source": [
    "a = [int(i) for i in input().split()]\n",
    "sum = 0\n",
    "for i in range(0, len(a)):\n",
    "    sum += a[i]\n",
    "print(sum)  "
   ]
  },
  {
   "cell_type": "code",
   "execution_count": 89,
   "id": "dfc28324",
   "metadata": {},
   "outputs": [
    {
     "name": "stdout",
     "output_type": "stream",
     "text": [
      "4 5 8 3\n",
      "20\n"
     ]
    }
   ],
   "source": [
    "a=[int(i) for i in input().split()]\n",
    "s=0\n",
    "for i in a:\n",
    "    s+=i\n",
    "print(s)"
   ]
  },
  {
   "cell_type": "code",
   "execution_count": 88,
   "id": "4121e996",
   "metadata": {},
   "outputs": [
    {
     "name": "stdout",
     "output_type": "stream",
     "text": [
      "4 5 8 3\n",
      "20\n"
     ]
    }
   ],
   "source": [
    "s = 0\n",
    "for i in input().split():\n",
    "    s += int(i)\n",
    "print(s)"
   ]
  },
  {
   "cell_type": "markdown",
   "id": "b021524e",
   "metadata": {},
   "source": [
    "Get list of numbers from console in 1 line\n",
    "<br> For each element of the list calculate sum of neigbour values\n",
    "<br> For the first and the last elements ( which have only 1 neighbour) take element from the other side of the list.\n",
    "<br> For example if we get \"1 3 5 6 10\" then output must be \"13 6 9 15 7\"\n",
    "<br> If get only 1 or 2 values then output must be this values."
   ]
  },
  {
   "cell_type": "code",
   "execution_count": 95,
   "id": "80c6c007",
   "metadata": {},
   "outputs": [
    {
     "name": "stdout",
     "output_type": "stream",
     "text": [
      "2 3 4\n",
      "7 6 5 "
     ]
    }
   ],
   "source": [
    "a = [ int(i) for i in input().split()]\n",
    "if len(a)<=2:\n",
    "    b = a\n",
    "else:\n",
    "    b =  [a[1] + a[-1]] + [ a[i-1] + a[i+1] for i in range(1, len(a)-1 )] + [a[-2] + a[0]]\n",
    "for i in range(len(b)):\n",
    "    print(b[i], end=' ')"
   ]
  },
  {
   "cell_type": "markdown",
   "id": "006ff202",
   "metadata": {},
   "source": [
    "Get list of numbers from console in one line\n",
    "<br> Output on screen list of numbers that were find more than 1 time in the list that was given\n",
    "<br> Output numbers can't be repeted"
   ]
  },
  {
   "cell_type": "code",
   "execution_count": 96,
   "id": "b0a44628",
   "metadata": {},
   "outputs": [
    {
     "name": "stdout",
     "output_type": "stream",
     "text": [
      "1 1 3 3 8 8 9 0 7 \n",
      "1 3 8 "
     ]
    }
   ],
   "source": [
    "a = [int(i) for i in input().split()]\n",
    "a.sort()          \n",
    "\n",
    "b = []\n",
    "if len(a) > 1:\n",
    "    \n",
    "    for i in range(1,len(a)-1):\n",
    "        if a[i]==a[i-1] and a[i] != a[i+1]:\n",
    "            b.append(a[i])\n",
    "        \n",
    "    if a[-1]  == a[-2]:\n",
    "           b.append(a[-2])\n",
    " \n",
    "    for i in b:    \n",
    "       print(i, end = ' ')    "
   ]
  },
  {
   "cell_type": "code",
   "execution_count": 97,
   "id": "0cb1c621",
   "metadata": {},
   "outputs": [
    {
     "name": "stdout",
     "output_type": "stream",
     "text": [
      "1 1 3 3 8 8 9 0 7\n",
      "1 3 8 "
     ]
    }
   ],
   "source": [
    "a, b = [str(i) for i in input().split()], []\n",
    "for i in a:\n",
    "    if i not in b and a.count(i) > 1:\n",
    "        b.append(i)\n",
    "        print(i, end=' ')"
   ]
  },
  {
   "cell_type": "code",
   "execution_count": 98,
   "id": "2ba31348",
   "metadata": {},
   "outputs": [
    {
     "name": "stdout",
     "output_type": "stream",
     "text": [
      "1 1 3 3 8 8 9 0 7\n",
      "1 3 8 "
     ]
    }
   ],
   "source": [
    "a, b = [int(i) for i in input().split()], []\n",
    "for i in a:\n",
    "    if a.count(i) > 1 and b.count(i) == 0:\n",
    "        b.append(i)\n",
    "for i in b:\n",
    "    print(i, end=\" \")"
   ]
  },
  {
   "cell_type": "markdown",
   "id": "095c2b54",
   "metadata": {},
   "source": [
    "Get numbers from console ( 1 number in each line) while sum of read numbers  equal to 0\n",
    "<br> After this stop reading numbers and output sum of square of all read numbers\n",
    "<br> Geting sum of numbers equal to 0 is garanted "
   ]
  },
  {
   "cell_type": "code",
   "execution_count": 101,
   "id": "3737f7f5",
   "metadata": {},
   "outputs": [
    {
     "name": "stdout",
     "output_type": "stream",
     "text": [
      "1\n",
      "-3\n",
      "5\n",
      "-6\n",
      "-10\n",
      "13\n",
      "340\n"
     ]
    }
   ],
   "source": [
    "a = []\n",
    "while sum != 0: \n",
    "    a.append( int( input() ) )\n",
    "    sum = 0\n",
    "    for i in a:\n",
    "        sum+=i\n",
    "    if sum == 0:\n",
    "        break \n",
    "r=0        \n",
    "for i in a:\n",
    "    r += i**2\n",
    "print (r)"
   ]
  },
  {
   "cell_type": "code",
   "execution_count": 102,
   "id": "0bcc1caf",
   "metadata": {},
   "outputs": [
    {
     "name": "stdout",
     "output_type": "stream",
     "text": [
      "1\n",
      "-3\n",
      "5\n",
      "-6\n",
      "-10\n",
      "13\n",
      "340\n"
     ]
    }
   ],
   "source": [
    "s, d = 0, 0\n",
    "while True:\n",
    "    a = int(input())\n",
    "    s += a\n",
    "    d += a*a\n",
    "    if s == 0:\n",
    "        break\n",
    "print(d)"
   ]
  },
  {
   "cell_type": "markdown",
   "id": "8ec2fc24",
   "metadata": {},
   "source": [
    "Program have to output part of sequence 1 2 2 3 3 3 4 4 4 4 5 5 5 5 5 ... (number repeates the same times its equal)\n",
    "<br>Program gets posotive number **n** - count of elements that have to be outputed\n",
    "<br> Output have to look like numbers in 1 line devided by space \n",
    "<br> For example if n = 7 program have to output 1 2 2 3 3 3 4"
   ]
  },
  {
   "cell_type": "code",
   "execution_count": 103,
   "id": "29b0d417",
   "metadata": {},
   "outputs": [
    {
     "name": "stdout",
     "output_type": "stream",
     "text": [
      "9\n",
      "1 2 2 3 3 3 4 4 4 "
     ]
    }
   ],
   "source": [
    "n = int(input())\n",
    "a=[]\n",
    "i = 1\n",
    "j = 1\n",
    "while len(a)<n:\n",
    "    j = 1\n",
    "    while j in range(i+1):\n",
    "        a.append([i])\n",
    "        print(i, end = ' ')\n",
    "        if len(a)==n:\n",
    "            break\n",
    "        j+=1   \n",
    "    i+=1"
   ]
  },
  {
   "cell_type": "markdown",
   "id": "d709efe0",
   "metadata": {},
   "source": [
    "Read list of numbers  **lst** fron one line and numver **x** from next line\n",
    "<br> Program have to output all positions on which number **x** is found in list **lst**\n",
    "<br> Position numerations starts from 0\n",
    "<br> If number is absent in the list output \"Absent\"\n",
    "<br> Position have to be outputed in one line in order if it absolute value"
   ]
  },
  {
   "cell_type": "code",
   "execution_count": 110,
   "id": "f55fed8d",
   "metadata": {},
   "outputs": [
    {
     "name": "stdout",
     "output_type": "stream",
     "text": [
      "5 8 2 7 8 8 2 4\n",
      "8\n",
      "1 4 5 "
     ]
    }
   ],
   "source": [
    "a , x =[int(i) for i in input().split()], int(input())\n",
    "if x not in a:\n",
    "    print('Absent')\n",
    "else:\n",
    "    for i in range(len(a)):\n",
    "        if x == a[i]:\n",
    "            print(i, end=' ') \n",
    "        i+=1  "
   ]
  },
  {
   "cell_type": "code",
   "execution_count": 112,
   "id": "861a5ee1",
   "metadata": {},
   "outputs": [
    {
     "name": "stdout",
     "output_type": "stream",
     "text": [
      "5 8 2 7 8 8 2 4\n",
      "8\n",
      "1 4 5\n"
     ]
    }
   ],
   "source": [
    "a, x = [int(i) for i in input().split()], int(input())\n",
    "print(*[i for i in range(len(a)) if a[i]==x] if x in a else [\"Absent\"])"
   ]
  },
  {
   "cell_type": "markdown",
   "id": "efc557ec",
   "metadata": {},
   "source": [
    "Get rectangular matrix looks like sequence of lines\n",
    "<br> After the last line of matrix have line which filled only with string **end**\n",
    "<br> Output matrix the same size each element on position i,j equal to sum of elements fron first matrix on positions \n",
    "<br> (i-1, j), (i+1, j), (i, j-1), (i, j+1)\n",
    "<br> Last elements neigbour element on the opposite side of the matrix\n",
    "<br> In case of one line/column element is a neighbot to itself"
   ]
  },
  {
   "cell_type": "code",
   "execution_count": 113,
   "id": "c8cf7c6a",
   "metadata": {},
   "outputs": [
    {
     "name": "stdout",
     "output_type": "stream",
     "text": [
      "9 5 3\n",
      "0 7 -1\n",
      "-5 2 9\n",
      "end\n",
      "3 21 22 \n",
      "10 6 19 \n",
      "20 16 -1 \n"
     ]
    }
   ],
   "source": [
    "a = []\n",
    "a0 = []\n",
    "\n",
    "# 1. Fill matrix\n",
    "while True:\n",
    "    a0 = input().split()\n",
    "    if a0[0] == 'end':\n",
    "        break\n",
    "    a0 = [ int(i) for i in a0]    \n",
    "    a.append(a0)  \n",
    "    \n",
    "# 2. Copy matrix    \n",
    "n = len(a)\n",
    "m = len(a[0])\n",
    "\n",
    "w = [ [ 0 for j in range(m)] for i in range(n) ]\n",
    "for i in range(n):\n",
    "    for j in range(m):\n",
    "        w[i][j] = a[i][j]\n",
    "        \n",
    "# 3. Calculate new values\n",
    "for i in range(n):\n",
    "    for j in range(m):\n",
    "        w[i][j] =  a[i][j-1] + a[i][j+1-m] + a[i-1][j] + a[i+1-n][j]\n",
    "              \n",
    "for i in range(n):\n",
    "    for j in range(m):\n",
    "        print(w[i][j], end = ' ')\n",
    "    print()\n",
    "       "
   ]
  },
  {
   "cell_type": "code",
   "execution_count": null,
   "id": "75209488",
   "metadata": {},
   "outputs": [],
   "source": []
  }
 ],
 "metadata": {
  "kernelspec": {
   "display_name": "Python 3 (ipykernel)",
   "language": "python",
   "name": "python3"
  },
  "language_info": {
   "codemirror_mode": {
    "name": "ipython",
    "version": 3
   },
   "file_extension": ".py",
   "mimetype": "text/x-python",
   "name": "python",
   "nbconvert_exporter": "python",
   "pygments_lexer": "ipython3",
   "version": "3.10.5"
  }
 },
 "nbformat": 4,
 "nbformat_minor": 5
}
