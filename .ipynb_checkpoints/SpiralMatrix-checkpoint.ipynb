{
 "cells": [
  {
   "cell_type": "markdown",
   "id": "4af40162",
   "metadata": {},
   "source": [
    "Get number from console - n.\n",
    "<br>Print  matrix in spiral form filled with numbers from 1 to n * n with dimenshion n * n. \n",
    "<br>Numbers starts from upper left corner twisted in clockwise direction."
   ]
  },
  {
   "cell_type": "code",
   "execution_count": 2,
   "id": "90263299",
   "metadata": {},
   "outputs": [
    {
     "name": "stdout",
     "output_type": "stream",
     "text": [
      "9\n",
      "1     2     3     4     5     6     7     8     9     \n",
      "32     33     34     35     36     37     38     39     10     \n",
      "31     56     57     58     59     60     61     40     11     \n",
      "30     55     72     73     74     75     62     41     12     \n",
      "29     54     71     80     81     76     63     42     13     \n",
      "28     53     70     79     78     77     64     43     14     \n",
      "27     52     69     68     67     66     65     44     15     \n",
      "26     51     50     49     48     47     46     45     16     \n",
      "25     24     23     22     21     20     19     18     17     \n"
     ]
    }
   ],
   "source": [
    "# 1. Get the dimention of matrix from console - n \n",
    "n = int(input())\n",
    "\n",
    "# 2. Draw the square matrix \n",
    "s =  [[0 for j in range(n)] for i in range(n)]\n",
    "k = 0\n",
    "v = 0\n",
    "while n> 2*k +1:\n",
    "    for j in range(0+k, n - (1+k)):\n",
    "        v += 1\n",
    "        s[0+k][j] = v\n",
    "        \n",
    "    for i in range(0+k, n - (1+k)):\n",
    "        v += 1\n",
    "        s[i][n-(1+k)] = v\n",
    "        \n",
    "    for j in range(n-(1+k) , 0+k , -1):\n",
    "        v += 1\n",
    "        s[-(1+k)][j] = v   \n",
    "        \n",
    "    for i in range(n-(1+k), 0+k, -1):\n",
    "        v += 1\n",
    "        s[i][0+k] = v\n",
    "    k+=1\n",
    "if n%2 ==1:\n",
    "    s[n//2][n//2] = v+1\n",
    "\n",
    "#3 . Print matrix()   \n",
    "for i in range(n):    \n",
    "    for j in range(n): \n",
    "        print(s[i][j], end = '     ')\n",
    "    print()"
   ]
  }
 ],
 "metadata": {
  "kernelspec": {
   "display_name": "Python 3 (ipykernel)",
   "language": "python",
   "name": "python3"
  },
  "language_info": {
   "codemirror_mode": {
    "name": "ipython",
    "version": 3
   },
   "file_extension": ".py",
   "mimetype": "text/x-python",
   "name": "python",
   "nbconvert_exporter": "python",
   "pygments_lexer": "ipython3",
   "version": "3.10.5"
  }
 },
 "nbformat": 4,
 "nbformat_minor": 5
}
