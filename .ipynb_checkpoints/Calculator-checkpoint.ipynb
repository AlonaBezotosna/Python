{
 "cells": [
  {
   "cell_type": "markdown",
   "id": "f85413e9",
   "metadata": {},
   "source": [
    "**Write calculator with structure:**\n",
    "<br>input from console first number, then second number, then operation and make output on screen.\n",
    "<br>Operations \n",
    "- addition +\n",
    "- subtraction -\n",
    "- division /  \n",
    "- multiplication *\n",
    "- mod - returns the remainder when the first operand is divided by the second\n",
    "- pow - returns first raised to power second\n",
    "- div - division (floor): divides the first operand by the second"
   ]
  },
  {
   "cell_type": "code",
   "execution_count": 4,
   "id": "1f5f4adf",
   "metadata": {},
   "outputs": [
    {
     "name": "stdout",
     "output_type": "stream",
     "text": [
      "10\n",
      "3\n",
      "mod\n",
      "1.0\n"
     ]
    }
   ],
   "source": [
    "a = float(input())\n",
    "b = float(input())\n",
    "op = input()\n",
    "\n",
    "if   op == '+':\n",
    "    print(a+b)\n",
    "    \n",
    "elif op == '-':\n",
    "    print(a-b)\n",
    "    \n",
    "elif op == '*':\n",
    "    print(a*b)\n",
    "    \n",
    "elif op == '/':\n",
    "    if b == 0:\n",
    "        print(\"Division by 0!\")\n",
    "    else:\n",
    "        print(a/b) \n",
    "\n",
    "elif op == 'mod':\n",
    "        if b == 0:\n",
    "            print(\"Division by 0!\")\n",
    "        else:\n",
    "            print(a%b)\n",
    "      \n",
    "elif op == 'pow':\n",
    "    print(a**b)\n",
    "    \n",
    "elif op == 'div':\n",
    "        if b == 0:\n",
    "            print(\"Division by 0!\")\n",
    "        else:\n",
    "            print(a//b)"
   ]
  },
  {
   "cell_type": "code",
   "execution_count": null,
   "id": "3867cf73",
   "metadata": {},
   "outputs": [],
   "source": []
  }
 ],
 "metadata": {
  "kernelspec": {
   "display_name": "Python 3 (ipykernel)",
   "language": "python",
   "name": "python3"
  },
  "language_info": {
   "codemirror_mode": {
    "name": "ipython",
    "version": 3
   },
   "file_extension": ".py",
   "mimetype": "text/x-python",
   "name": "python",
   "nbconvert_exporter": "python",
   "pygments_lexer": "ipython3",
   "version": "3.10.5"
  }
 },
 "nbformat": 4,
 "nbformat_minor": 5
}
