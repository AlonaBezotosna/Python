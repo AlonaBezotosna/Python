{
 "cells": [
  {
   "cell_type": "markdown",
   "id": "ed03ced3",
   "metadata": {},
   "source": [
    "#Напишите функцию update_dictionary(d, key, value), которая принимает на вход словарь d и два числа: key и value\n",
    "<br> 1 - Если ключ key есть в словаре d, то добавьте значение value в список, который хранится по этому ключу\n",
    "<br> 2 - Если ключа key нет в словаре, то нужно добавить значение в список по ключу 2 * key.\n",
    "<br> 3 - Если и ключа 2 *key нет, то нужно добавить ключ 2 * key в словарь "
   ]
  },
  {
   "cell_type": "code",
   "execution_count": 6,
   "id": "3d577f0e",
   "metadata": {},
   "outputs": [],
   "source": [
    "def update_dictionary(d, key, value):\n",
    "    if key in d:\n",
    "        d[key]+=[value]\n",
    "    elif 2*key in d:\n",
    "        d[2*key]+=[value]\n",
    "    else:\n",
    "         d[2*key]=[value]"
   ]
  },
  {
   "cell_type": "code",
   "execution_count": 7,
   "id": "726698db",
   "metadata": {},
   "outputs": [
    {
     "name": "stdout",
     "output_type": "stream",
     "text": [
      "{2: [-1]}\n"
     ]
    }
   ],
   "source": [
    "d = {}\n",
    "update_dictionary(d, 1, -1) \n",
    "print(d) "
   ]
  },
  {
   "cell_type": "code",
   "execution_count": 8,
   "id": "0ff85f02",
   "metadata": {},
   "outputs": [
    {
     "name": "stdout",
     "output_type": "stream",
     "text": [
      "{2: [-1, 10]}\n"
     ]
    }
   ],
   "source": [
    "update_dictionary(d, 2, 10) \n",
    "print(d) "
   ]
  },
  {
   "cell_type": "code",
   "execution_count": null,
   "id": "4b852103",
   "metadata": {},
   "outputs": [],
   "source": []
  }
 ],
 "metadata": {
  "kernelspec": {
   "display_name": "Python 3 (ipykernel)",
   "language": "python",
   "name": "python3"
  },
  "language_info": {
   "codemirror_mode": {
    "name": "ipython",
    "version": 3
   },
   "file_extension": ".py",
   "mimetype": "text/x-python",
   "name": "python",
   "nbconvert_exporter": "python",
   "pygments_lexer": "ipython3",
   "version": "3.10.5"
  }
 },
 "nbformat": 4,
 "nbformat_minor": 5
}
