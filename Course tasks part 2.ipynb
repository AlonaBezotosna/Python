{
 "cells": [
  {
   "cell_type": "markdown",
   "id": "baa029cc",
   "metadata": {},
   "source": [
    "Write function **update_dictionary(d, key, value)**, which get parameters -  dictionary **d** and 2 numbers: **key** and **value**\n",
    "<br>Function have to do:\n",
    "<br> - if **key** already in dictionary **d** then add **value** to list with this key\n",
    "<br> - if there is no **key** in dictionary **d** then add  **value** to list with key 2***key**   <br> - if there is no 2***key** in dictionary **d** then add key 2***key** to dictionary and **value**\n"
   ]
  },
  {
   "cell_type": "code",
   "execution_count": 4,
   "id": "d262199a",
   "metadata": {},
   "outputs": [],
   "source": [
    "def update_dictionary(d, key, value):\n",
    "    if key in d:\n",
    "        d[key]+=[value]\n",
    "    elif 2*key in d:\n",
    "        d[2*key]+=[value]\n",
    "    else:\n",
    "         d[2*key]=[value]"
   ]
  },
  {
   "cell_type": "code",
   "execution_count": 5,
   "id": "2e61fc28",
   "metadata": {},
   "outputs": [
    {
     "name": "stdout",
     "output_type": "stream",
     "text": [
      "{2: [-1]}\n"
     ]
    }
   ],
   "source": [
    "d = {}\n",
    "update_dictionary(d, 1, -1) \n",
    "print(d) "
   ]
  },
  {
   "cell_type": "code",
   "execution_count": 6,
   "id": "2c4dc94d",
   "metadata": {},
   "outputs": [
    {
     "name": "stdout",
     "output_type": "stream",
     "text": [
      "{2: [-1, 10]}\n"
     ]
    }
   ],
   "source": [
    "update_dictionary(d, 2, 10) \n",
    "print(d) "
   ]
  },
  {
   "cell_type": "markdown",
   "id": "c7ce5359",
   "metadata": {},
   "source": [
    "#### Function"
   ]
  },
  {
   "cell_type": "code",
   "execution_count": 7,
   "id": "6d60f692",
   "metadata": {},
   "outputs": [],
   "source": [
    "def min(*a):\n",
    "    m=a[0]\n",
    "    for x in a:\n",
    "        if x<m:\n",
    "            m=x\n",
    "    return m  "
   ]
  },
  {
   "cell_type": "code",
   "execution_count": 10,
   "id": "c3d538b4",
   "metadata": {},
   "outputs": [
    {
     "data": {
      "text/plain": [
       "-10"
      ]
     },
     "execution_count": 10,
     "metadata": {},
     "output_type": "execute_result"
    }
   ],
   "source": [
    "min(5, 3,-10,100,-8)"
   ]
  },
  {
   "cell_type": "code",
   "execution_count": 28,
   "id": "c62b060c",
   "metadata": {},
   "outputs": [],
   "source": [
    "def my_range(start, stop, step =1 ):\n",
    "    res=[]\n",
    "    if step>0:\n",
    "        x=start\n",
    "        while x<stop:\n",
    "            res+=[x]\n",
    "            x+=step        \n",
    "    elif step<0:\n",
    "        x=start\n",
    "        while x>stop:\n",
    "            res+=[x]\n",
    "            x+=step\n",
    "    return res    "
   ]
  },
  {
   "cell_type": "code",
   "execution_count": 29,
   "id": "05d781ff",
   "metadata": {},
   "outputs": [
    {
     "data": {
      "text/plain": [
       "[30, 27, 24, 21, 18, 15, 12, 9, 6]"
      ]
     },
     "execution_count": 29,
     "metadata": {},
     "output_type": "execute_result"
    }
   ],
   "source": [
    "my_range(30,3,-3)"
   ]
  },
  {
   "cell_type": "markdown",
   "id": "e5c4876e",
   "metadata": {},
   "source": [
    "Write function **modify_list(l)** that gets list of int.\n",
    "<br> Function have to delete all odd number and make floor division to 2 for all even numbers \n",
    "<br> Function do nor return anything, just change the list that it gets."
   ]
  },
  {
   "cell_type": "markdown",
   "id": "69b55271",
   "metadata": {},
   "source": [
    "Solution 1"
   ]
  },
  {
   "cell_type": "code",
   "execution_count": 31,
   "id": "a70b9899",
   "metadata": {},
   "outputs": [],
   "source": [
    "def modify_list(l):\n",
    "    l0 = [i for i in l] # make copy list\n",
    "\n",
    "    for i in l0:\n",
    "        l.remove(i)\n",
    "        if i%2 == 0:\n",
    "            l.append(int(i/2))\n",
    "            \n",
    "lst = [10, 5, 8, 3]\n",
    "modify_list(lst)\n",
    "print(lst)"
   ]
  },
  {
   "cell_type": "markdown",
   "id": "c193af30",
   "metadata": {},
   "source": [
    "Solution 2"
   ]
  },
  {
   "cell_type": "code",
   "execution_count": 33,
   "id": "69161579",
   "metadata": {},
   "outputs": [
    {
     "name": "stdout",
     "output_type": "stream",
     "text": [
      "[5, 4]\n"
     ]
    }
   ],
   "source": [
    "def modify_list(l):\n",
    "    l[:] = [i//2 for i in l if i % 2 == 0]\n",
    "    \n",
    "lst = [10, 5, 8, 3]\n",
    "modify_list(lst)\n",
    "print(lst)               "
   ]
  },
  {
   "cell_type": "markdown",
   "id": "64765924",
   "metadata": {},
   "source": [
    "Solution 3"
   ]
  },
  {
   "cell_type": "code",
   "execution_count": 35,
   "id": "3b759b00",
   "metadata": {},
   "outputs": [
    {
     "name": "stdout",
     "output_type": "stream",
     "text": [
      "[5, 4]\n"
     ]
    }
   ],
   "source": [
    "def modify_list(l):\n",
    "    for x in l[:]:\n",
    "        if x % 2 == 0:\n",
    "            l.append(x//2)\n",
    "        l.remove(x)\n",
    "        \n",
    "lst = [10, 5, 8, 3]\n",
    "modify_list(lst)    \n",
    "print(lst) "
   ]
  },
  {
   "cell_type": "markdown",
   "id": "35fa8a7a",
   "metadata": {},
   "source": [
    "Solution 4"
   ]
  },
  {
   "cell_type": "code",
   "execution_count": 37,
   "id": "b7e13f73",
   "metadata": {},
   "outputs": [
    {
     "name": "stdout",
     "output_type": "stream",
     "text": [
      "[5, 4]\n"
     ]
    }
   ],
   "source": [
    "def modify_list(l):\n",
    "    x=0\n",
    "    counter=len(l)\n",
    "    while x < counter:\n",
    "        if l[0] % 2 == 0:\n",
    "            l.append(l[0]//2)\n",
    "        l.remove(l[0])\n",
    "        x+=1\n",
    "        \n",
    "lst = [10, 5, 8, 3]\n",
    "modify_list(lst)    \n",
    "print(lst)  "
   ]
  },
  {
   "cell_type": "markdown",
   "id": "39e3afeb",
   "metadata": {},
   "source": [
    "Solution 5"
   ]
  },
  {
   "cell_type": "code",
   "execution_count": 38,
   "id": "df7d59fc",
   "metadata": {},
   "outputs": [],
   "source": [
    "def modify_list(l):\n",
    "    for i in reversed(range(len(l))):\n",
    "        if l[i] % 2 == 1:\n",
    "            del l[i]\n",
    "        else:\n",
    "            l[i] //= 2\n",
    "            \n",
    "lst = [10, 5, 8, 3]\n",
    "modify_list(lst)"
   ]
  },
  {
   "cell_type": "code",
   "execution_count": null,
   "id": "13e12698",
   "metadata": {},
   "outputs": [],
   "source": []
  }
 ],
 "metadata": {
  "kernelspec": {
   "display_name": "Python 3 (ipykernel)",
   "language": "python",
   "name": "python3"
  },
  "language_info": {
   "codemirror_mode": {
    "name": "ipython",
    "version": 3
   },
   "file_extension": ".py",
   "mimetype": "text/x-python",
   "name": "python",
   "nbconvert_exporter": "python",
   "pygments_lexer": "ipython3",
   "version": "3.10.5"
  }
 },
 "nbformat": 4,
 "nbformat_minor": 5
}
