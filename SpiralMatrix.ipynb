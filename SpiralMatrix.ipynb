{
 "cells": [
  {
   "cell_type": "markdown",
   "id": "43e95f0a",
   "metadata": {},
   "source": [
    "Get number from console.\n",
    "Make table with dimenshion n * n filled with number from 1 to n * n spirally. \n",
    "Numbers stasrts from upper left corner twisted by clockwise direction."
   ]
  },
  {
   "cell_type": "code",
   "execution_count": 1,
   "id": "8f33b7c5",
   "metadata": {},
   "outputs": [
    {
     "name": "stdout",
     "output_type": "stream",
     "text": [
      "8\n",
      "1     2     3     4     5     6     7     8     \n",
      "28     29     30     31     32     33     34     9     \n",
      "27     48     49     50     51     52     35     10     \n",
      "26     47     60     61     62     53     36     11     \n",
      "25     46     59     64     63     54     37     12     \n",
      "24     45     58     57     56     55     38     13     \n",
      "23     44     43     42     41     40     39     14     \n",
      "22     21     20     19     18     17     16     15     \n"
     ]
    }
   ],
   "source": [
    "# 1. Get the dimention of matrix from console - n \n",
    "n = int(input())\n",
    "\n",
    "# 2. Draw the square matrix \n",
    "s =  [[0 for j in range(n)] for i in range(n)]\n",
    "k = 0\n",
    "v = 0\n",
    "while n> 2*k +1:\n",
    "    for j in range(0+k, n - (1+k)):\n",
    "        v += 1\n",
    "        s[0+k][j] = v\n",
    "        \n",
    "    for i in range(0+k, n - (1+k)):\n",
    "        v += 1\n",
    "        s[i][n-(1+k)] = v\n",
    "        \n",
    "    for j in range(n-(1+k) , 0+k , -1):\n",
    "        v += 1\n",
    "        s[-(1+k)][j] = v   \n",
    "        \n",
    "    for i in range(n-(1+k), 0+k, -1):\n",
    "        v += 1\n",
    "        s[i][0+k] = v\n",
    "    k+=1\n",
    "if n%2 ==1:\n",
    "    s[n//2][n//2] = v+1\n",
    "\n",
    "#3 . Print matrix()   \n",
    "for i in range(n):    \n",
    "    for j in range(n): \n",
    "        print(s[i][j], end = '     ')\n",
    "    print()"
   ]
  },
  {
   "cell_type": "code",
   "execution_count": null,
   "id": "41fb19bb",
   "metadata": {},
   "outputs": [],
   "source": []
  }
 ],
 "metadata": {
  "kernelspec": {
   "display_name": "Python 3 (ipykernel)",
   "language": "python",
   "name": "python3"
  },
  "language_info": {
   "codemirror_mode": {
    "name": "ipython",
    "version": 3
   },
   "file_extension": ".py",
   "mimetype": "text/x-python",
   "name": "python",
   "nbconvert_exporter": "python",
   "pygments_lexer": "ipython3",
   "version": "3.10.5"
  }
 },
 "nbformat": 4,
 "nbformat_minor": 5
}
